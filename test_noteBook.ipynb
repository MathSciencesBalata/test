{
  "nbformat": 4,
  "nbformat_minor": 0,
  "metadata": {
    "colab": {
      "name": "test_noteBook.ipynb",
      "provenance": [],
      "collapsed_sections": [],
      "include_colab_link": true
    },
    "kernelspec": {
      "name": "python3",
      "display_name": "Python 3"
    }
  },
  "cells": [
    {
      "cell_type": "markdown",
      "metadata": {
        "id": "view-in-github",
        "colab_type": "text"
      },
      "source": [
        "<a href=\"https://colab.research.google.com/github/MathSciencesBalata/test/blob/master/test_noteBook.ipynb\" target=\"_parent\"><img src=\"https://colab.research.google.com/assets/colab-badge.svg\" alt=\"Open In Colab\"/></a>"
      ]
    },
    {
      "cell_type": "markdown",
      "metadata": {
        "id": "1CsIXy482mox",
        "colab_type": "text"
      },
      "source": [
        "Introduction \n",
        "Vous allez tapez votre premier pogramme en python"
      ]
    },
    {
      "cell_type": "code",
      "metadata": {
        "id": "iYdLAJm713EF",
        "colab_type": "code",
        "colab": {}
      },
      "source": [
        "def ma_premiere_fonction():\n",
        "  return print(\"Bonjour voici mon 1er programme je l'ai modifié\")\n",
        "\n",
        "ma_premiere_fonction()"
      ],
      "execution_count": 0,
      "outputs": []
    }
  ]
}